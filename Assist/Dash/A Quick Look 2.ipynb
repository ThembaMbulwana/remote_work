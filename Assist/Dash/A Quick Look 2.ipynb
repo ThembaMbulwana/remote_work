{
 "cells": [
  {
   "cell_type": "code",
   "execution_count": 18,
   "metadata": {},
   "outputs": [],
   "source": [
    "import dash\n",
    "import dash_core_components as dcc\n",
    "import dash_html_components as html\n",
    "import plotly.offline as pyo\n",
    "import plotly.graph_objs as go\n",
    "# import plotly.express as px\n",
    "import pandas as pd\n",
    "import numpy as np\n",
    "\n",
    "mob_money = pd.read_csv('training.csv')"
   ]
  },
  {
   "cell_type": "code",
   "execution_count": 19,
   "metadata": {},
   "outputs": [
    {
     "data": {
      "text/plain": [
       "Trading                 4470\n",
       "Piece Jobs              2393\n",
       "Rely on Someone Else    1112\n",
       "Salaries/Wages           441\n",
       "Service Provider         412\n",
       "No Money                 410\n",
       "Social Welfare           131\n",
       "Rental Income             67\n",
       "Investments               34\n",
       "Pension                   34\n",
       "Other                      9\n",
       "Name: Income_Type, dtype: int64"
      ]
     },
     "execution_count": 19,
     "metadata": {},
     "output_type": "execute_result"
    }
   ],
   "source": [
    "# changing index cols with rename() \n",
    "mob_money = mob_money.rename(columns = {\"Q1\": \"Age\", \n",
    "                                  \"Q2\": \"Gender\", \n",
    "                                  \"Q3\": \"Marital Status\",\n",
    "                                  \"Q4\": \"Highest Qualification\",\n",
    "                                  \"Q5\": \"Living Conditions\",\n",
    "                                  \"Q6\": \"Land Ownership\",\n",
    "                                  \"Q7\": \"Cellphone Ownership\",\n",
    "                                  \"Q8_1\": \"Salaries/Wages\",\n",
    "                                  \"Q8_2\": \"Trading\",\n",
    "                                  \"Q8_3\": \"Service Provider\",\n",
    "                                  \"Q8_4\": \"Piece Jobs\",\n",
    "                                  \"Q8_5\": \"Rental Income\",\n",
    "                                  \"Q8_6\": \"Investments\",\n",
    "                                  \"Q8_7\": \"Pension\",\n",
    "                                  \"Q8_8\": \"Social Welfare\",\n",
    "                                  \"Q8_9\": \"Rely on Someone Else\",\n",
    "                                  \"Q8_10\": \"No Money\",\n",
    "                                  \"Q8_11\": \"Other\",\n",
    "                                  \"Q9\": \"Employer\",\n",
    "                                  \"Q10\": \"Trading Products\",\n",
    "                                  \"Q11\": \"Services Provided\",\n",
    "                                  \"Q12\": \"Sent Money(12months)\",\n",
    "                                  \"Q13\": \"Last Sent Money\",\n",
    "                                  \"Q14\": \"Received Money(12months)\",\n",
    "                                  \"Q15\": \"Last Received Money\",\n",
    "                                  \"Q16\": \"Mobile Money for GnS (12months)\",\n",
    "                                  \"Q17\": \"Mobile Money for Bills (12months)\",\n",
    "                                  \"Q18\": \"Literacy in Kiswhahili\",\n",
    "                                  \"Q19\": \"Literacy in English\"}) \n",
    "  \n",
    "# changing columns using .columns() \n",
    "mob_money.columns = [\"ID\",\"Age\", \"Gender\",\"Marital Status\",\"Highest Qualification\",\"Living Conditions\",\n",
    "                    \"Land Ownership\", \"Cellphone Ownership\", \"Salaries/Wages\",\"Trading\", \"Service Provider\",\n",
    "                    \"Piece Jobs\", \"Rental Income\",\"Investments\", \"Pension\",\"Social Welfare\",\n",
    "                    \"Rely on Someone Else\", \"No Money\",\"Other\",\"Employer\",\"Trading Products\",\n",
    "                    \"Services Provided\",\"Sent Money(12months)\",\"Last Sent Money\",\"Received Money(12months)\",\n",
    "                    \"Last Received Money\",\"Mobile Money for GnS (12months)\", \"Mobile Money for Bills (12months)\",\n",
    "                    \"Literacy in Kiswhahili\",\"Literacy in English\",\"Latitude\",\"Longitude\",\"mobile_money\",\"savings\",\n",
    "                    \"borrowing\",\"insurance\",\"mobile_money_classification\"]\n",
    "\n",
    "# changing the values in columns from intergers to representative strings\n",
    "mob_money['Gender']= ['Female' if each==2 else 'Male' for each in mob_money['Gender']]\n",
    "mob_money['Land Ownership']= ['No' if each==2 else 'Yes' for each in mob_money['Land Ownership']]\n",
    "mob_money['Sent Money(12months)']= ['No' if each==2 else 'Yes' for each in mob_money['Sent Money(12months)']]\n",
    "mob_money['Received Money(12months)']= ['No' if each==2 else 'Yes' for each in mob_money['Received Money(12months)']]\n",
    "mob_money['Last Sent Money'] = mob_money['Last Sent Money'].map({-1: \"N/A\", 4: \"90Days\", 2: \"7Days\", 5: \"90+Days\", 3: \"30Days\", 6: \"6Mnth+\", 1: \"Y/Today\"})\n",
    "mob_money['Last Received Money'] = mob_money['Last Received Money'].map({-1: \"N/A\", 5: \"90+Days\", 1: \"Y/Today\", 3: \"30Days\", 4: \"90Days\", 6: \"6Mnth+\", 2: \"7Days\"})\n",
    "mob_money['Mobile Money for GnS (12months)'] = mob_money['Mobile Money for GnS (12months)'].map({-1: \"N/A\", 1: \"Never\", 4: \"Monthly\", 5: \"LessMnthly\", 3: \"Weekly\", 2: \"Daily\"})\n",
    "mob_money['Mobile Money for Bills (12months)'] = mob_money['Mobile Money for Bills (12months)'].map({-1: \"N/A\", 4: \"Monthly\", 1: \"Never\", 2: \"Daily\", 5: \"LessMnthly\", 3: \"Weekly\"})\n",
    "mob_money['mobile_money']= ['No' if each==0 else 'Yes' for each in mob_money['mobile_money']]\n",
    "mob_money['mobile_money_classification'] = mob_money['mobile_money_classification'].map({0: \"None\", 3: \"MM_Plus\", 2: \"MM_Only\", 1: \"Other_Only\"})\n",
    "mob_money['Marital Status'] = mob_money['Marital Status'].map({3: \"Widowed\", 1: \"Married\", 4: \"Single\", 2: \"Divorced\"})\n",
    "\n",
    "# creating an incomes dataframe to compare incomes with mobile money usage\n",
    "incomes = mob_money.loc[:, 'Salaries/Wages':'Other']\n",
    "incomes['mobile_money'] = mob_money['mobile_money']\n",
    "incomes['Sent Money(12months)'] = mob_money['Sent Money(12months)']\n",
    "incomes['Received Money(12months)'] = mob_money['Received Money(12months)']\n",
    "incomes = pd.melt(incomes, id_vars = ['mobile_money', 'Sent Money(12months)', 'Received Money(12months)'], var_name='Income_Type') \n",
    "incomes = incomes[incomes['value'] == 1]\n",
    "incomes.Income_Type.value_counts()"
   ]
  },
  {
   "cell_type": "markdown",
   "metadata": {},
   "source": [
    "# Feedback"
   ]
  },
  {
   "cell_type": "raw",
   "metadata": {},
   "source": [
    "A quick look at the below code shows why your dashboard is blank, x has to be a specific column or series values.\n",
    "Tried to print Gender and got an error, instead of x:[\"Gender\"] is has to be x:df[\"Gender\"]\n",
    "        \n",
    "Will try to reproduce what you were trying to do and maybe you could use that as a guide for the rest of the planned charts"
   ]
  },
  {
   "cell_type": "code",
   "execution_count": 20,
   "metadata": {},
   "outputs": [
    {
     "data": {
      "text/html": [
       "<div>\n",
       "<style scoped>\n",
       "    .dataframe tbody tr th:only-of-type {\n",
       "        vertical-align: middle;\n",
       "    }\n",
       "\n",
       "    .dataframe tbody tr th {\n",
       "        vertical-align: top;\n",
       "    }\n",
       "\n",
       "    .dataframe thead th {\n",
       "        text-align: right;\n",
       "    }\n",
       "</style>\n",
       "<table border=\"1\" class=\"dataframe\">\n",
       "  <thead>\n",
       "    <tr style=\"text-align: right;\">\n",
       "      <th></th>\n",
       "      <th>index</th>\n",
       "      <th>mobile_money_classification</th>\n",
       "    </tr>\n",
       "  </thead>\n",
       "  <tbody>\n",
       "    <tr>\n",
       "      <th>0</th>\n",
       "      <td>MM_Plus</td>\n",
       "      <td>3126</td>\n",
       "    </tr>\n",
       "    <tr>\n",
       "      <th>1</th>\n",
       "      <td>Other_Only</td>\n",
       "      <td>1778</td>\n",
       "    </tr>\n",
       "    <tr>\n",
       "      <th>2</th>\n",
       "      <td>None</td>\n",
       "      <td>1386</td>\n",
       "    </tr>\n",
       "    <tr>\n",
       "      <th>3</th>\n",
       "      <td>MM_Only</td>\n",
       "      <td>804</td>\n",
       "    </tr>\n",
       "  </tbody>\n",
       "</table>\n",
       "</div>"
      ],
      "text/plain": [
       "        index  mobile_money_classification\n",
       "0     MM_Plus                         3126\n",
       "1  Other_Only                         1778\n",
       "2        None                         1386\n",
       "3     MM_Only                          804"
      ]
     },
     "execution_count": 20,
     "metadata": {},
     "output_type": "execute_result"
    }
   ],
   "source": [
    "# Might be mistaken, but I think you were trying to produce something like the below\n",
    "\n",
    "chart1 = pd.DataFrame(mob_money[\"mobile_money_classification\"].value_counts()).reset_index()\n",
    "\n",
    "chart1.head()"
   ]
  },
  {
   "cell_type": "code",
   "execution_count": 40,
   "metadata": {},
   "outputs": [
    {
     "data": {
      "text/plain": [
       "'None'"
      ]
     },
     "execution_count": 40,
     "metadata": {},
     "output_type": "execute_result"
    }
   ],
   "source": [
    "# Example of getting the y value\n",
    "chart1[chart1[\"index\"] == \"None\"][\"index\"].values[0]"
   ]
  },
  {
   "cell_type": "code",
   "execution_count": 41,
   "metadata": {},
   "outputs": [
    {
     "data": {
      "text/plain": [
       "1386"
      ]
     },
     "execution_count": 41,
     "metadata": {},
     "output_type": "execute_result"
    }
   ],
   "source": [
    "# Example of getting the x values\n",
    "chart1[chart1[\"index\"] == \"None\"][\"mobile_money_classification\"].values[0]"
   ]
  },
  {
   "cell_type": "code",
   "execution_count": 48,
   "metadata": {},
   "outputs": [],
   "source": [
    "app = dash.Dash()"
   ]
  },
  {
   "cell_type": "code",
   "execution_count": 49,
   "metadata": {},
   "outputs": [],
   "source": [
    "app.layout = html.Div([\n",
    "    html.Div(html.H1(children=\"Hello World\")),\n",
    "    html.Label(\"Dash Graph1\"),\n",
    "    html.Div(\n",
    "        dcc.Graph(id=\"Gender Graph\",\n",
    "                    figure={'data':[\n",
    "                        #{\"x\":[\"Gender\"],\"y\":[\"mobile_money_classification\"],\"type\":\"bar\", \"name\":\"None\"},\n",
    "                        {\"x\":[chart1[chart1[\"index\"] == \"None\"][\"mobile_money_classification\"].values[0]],\"y\":[chart1[chart1[\"index\"] == \"None\"][\"index\"].values[0]],\"type\":\"bar\", \"name\":\"None\"},\n",
    "                        \n",
    "                       # {\"x\":[\"Gender\"],\"y\":[\"mobile_money_classification\"],\"type\":\"bar\", \"name\":\"MM_Plus\"},\n",
    "                        {\"x\":[chart1[chart1[\"index\"] == \"MM_Plus\"][\"mobile_money_classification\"].values[0]],\"y\":[chart1[chart1[\"index\"] == \"MM_Plus\"][\"index\"].values[0]],\"type\":\"bar\", \"name\":\"MM_Plus\"},\n",
    "                        \n",
    "                       # {\"x\":[\"Gender\"],\"y\":[\"mobile_money_classification\"],\"type\":\"bar\", \"name\":\"MM_Only\"},\n",
    "                       {\"x\":[chart1[chart1[\"index\"] == \"MM_Only\"][\"mobile_money_classification\"].values[0]],\"y\":[chart1[chart1[\"index\"] == \"MM_Only\"][\"index\"].values[0]],\"type\":\"bar\", \"name\":\"MM_Only\"},\n",
    "                        \n",
    "                       # {\"x\":[\"Gender\"],\"y\":[\"mobile_money_classification\"],\"type\":\"bar\", \"name\":\"Other_Only\"},\n",
    "                       {\"x\":[chart1[chart1[\"index\"] == \"Other_Only\"][\"mobile_money_classification\"].values[0]],\"y\":[chart1[chart1[\"index\"] == \"Other_Only\"][\"index\"].values[0]],\"type\":\"bar\", \"name\":\"Other_Only\"}\n",
    "    \n",
    "                    ],\n",
    "                    \"layout\":{\n",
    "                        \"title\":\"Bar Plot\"\n",
    "                    }}\n",
    "                )\n",
    "    )\n",
    "])\n"
   ]
  },
  {
   "cell_type": "code",
   "execution_count": 50,
   "metadata": {},
   "outputs": [
    {
     "name": "stdout",
     "output_type": "stream",
     "text": [
      " * Serving Flask app \"__main__\" (lazy loading)\n",
      " * Environment: production\n",
      "   WARNING: This is a development server. Do not use it in a production deployment.\n",
      "   Use a production WSGI server instead.\n",
      " * Debug mode: off\n"
     ]
    },
    {
     "name": "stderr",
     "output_type": "stream",
     "text": [
      " * Running on http://127.0.0.1:8050/ (Press CTRL+C to quit)\n",
      "127.0.0.1 - - [23/Mar/2020 14:46:33] \"\u001b[37mGET / HTTP/1.1\u001b[0m\" 200 -\n",
      "127.0.0.1 - - [23/Mar/2020 14:46:34] \"\u001b[37mGET /_dash-layout HTTP/1.1\u001b[0m\" 200 -\n",
      "127.0.0.1 - - [23/Mar/2020 14:46:34] \"\u001b[37mGET /_dash-dependencies HTTP/1.1\u001b[0m\" 200 -\n"
     ]
    }
   ],
   "source": [
    "if __name__ == '__main__':\n",
    "    app.run_server()"
   ]
  },
  {
   "cell_type": "markdown",
   "metadata": {},
   "source": [
    "![](pic2.png)"
   ]
  },
  {
   "cell_type": "code",
   "execution_count": null,
   "metadata": {},
   "outputs": [],
   "source": []
  }
 ],
 "metadata": {
  "kernelspec": {
   "display_name": "Python 3",
   "language": "python",
   "name": "python3"
  },
  "language_info": {
   "codemirror_mode": {
    "name": "ipython",
    "version": 3
   },
   "file_extension": ".py",
   "mimetype": "text/x-python",
   "name": "python",
   "nbconvert_exporter": "python",
   "pygments_lexer": "ipython3",
   "version": "3.7.3"
  }
 },
 "nbformat": 4,
 "nbformat_minor": 2
}
