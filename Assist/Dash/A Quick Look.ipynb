{
 "cells": [
  {
   "cell_type": "code",
   "execution_count": 1,
   "metadata": {},
   "outputs": [
    {
     "data": {
      "text/html": [
       "<div>\n",
       "<style scoped>\n",
       "    .dataframe tbody tr th:only-of-type {\n",
       "        vertical-align: middle;\n",
       "    }\n",
       "\n",
       "    .dataframe tbody tr th {\n",
       "        vertical-align: top;\n",
       "    }\n",
       "\n",
       "    .dataframe thead th {\n",
       "        text-align: right;\n",
       "    }\n",
       "</style>\n",
       "<table border=\"1\" class=\"dataframe\">\n",
       "  <thead>\n",
       "    <tr style=\"text-align: right;\">\n",
       "      <th></th>\n",
       "      <th>ID</th>\n",
       "      <th>Q1</th>\n",
       "      <th>Q2</th>\n",
       "      <th>Q3</th>\n",
       "      <th>Q4</th>\n",
       "      <th>Q5</th>\n",
       "      <th>Q6</th>\n",
       "      <th>Q7</th>\n",
       "      <th>Q8_1</th>\n",
       "      <th>Q8_2</th>\n",
       "      <th>...</th>\n",
       "      <th>Q17</th>\n",
       "      <th>Q18</th>\n",
       "      <th>Q19</th>\n",
       "      <th>Latitude</th>\n",
       "      <th>Longitude</th>\n",
       "      <th>mobile_money</th>\n",
       "      <th>savings</th>\n",
       "      <th>borrowing</th>\n",
       "      <th>insurance</th>\n",
       "      <th>mobile_money_classification</th>\n",
       "    </tr>\n",
       "  </thead>\n",
       "  <tbody>\n",
       "    <tr>\n",
       "      <th>0</th>\n",
       "      <td>5086</td>\n",
       "      <td>98</td>\n",
       "      <td>2</td>\n",
       "      <td>3</td>\n",
       "      <td>1</td>\n",
       "      <td>1</td>\n",
       "      <td>2</td>\n",
       "      <td>2</td>\n",
       "      <td>0</td>\n",
       "      <td>0</td>\n",
       "      <td>...</td>\n",
       "      <td>-1</td>\n",
       "      <td>4</td>\n",
       "      <td>4</td>\n",
       "      <td>-4.460442</td>\n",
       "      <td>29.811396</td>\n",
       "      <td>0</td>\n",
       "      <td>0</td>\n",
       "      <td>0</td>\n",
       "      <td>0</td>\n",
       "      <td>0</td>\n",
       "    </tr>\n",
       "    <tr>\n",
       "      <th>1</th>\n",
       "      <td>1258</td>\n",
       "      <td>40</td>\n",
       "      <td>1</td>\n",
       "      <td>1</td>\n",
       "      <td>3</td>\n",
       "      <td>5</td>\n",
       "      <td>1</td>\n",
       "      <td>1</td>\n",
       "      <td>1</td>\n",
       "      <td>0</td>\n",
       "      <td>...</td>\n",
       "      <td>4</td>\n",
       "      <td>1</td>\n",
       "      <td>4</td>\n",
       "      <td>-6.176438</td>\n",
       "      <td>39.244871</td>\n",
       "      <td>1</td>\n",
       "      <td>1</td>\n",
       "      <td>1</td>\n",
       "      <td>0</td>\n",
       "      <td>3</td>\n",
       "    </tr>\n",
       "    <tr>\n",
       "      <th>2</th>\n",
       "      <td>331</td>\n",
       "      <td>18</td>\n",
       "      <td>2</td>\n",
       "      <td>4</td>\n",
       "      <td>6</td>\n",
       "      <td>3</td>\n",
       "      <td>2</td>\n",
       "      <td>1</td>\n",
       "      <td>0</td>\n",
       "      <td>0</td>\n",
       "      <td>...</td>\n",
       "      <td>-1</td>\n",
       "      <td>1</td>\n",
       "      <td>1</td>\n",
       "      <td>-6.825702</td>\n",
       "      <td>37.652798</td>\n",
       "      <td>1</td>\n",
       "      <td>0</td>\n",
       "      <td>0</td>\n",
       "      <td>0</td>\n",
       "      <td>2</td>\n",
       "    </tr>\n",
       "    <tr>\n",
       "      <th>3</th>\n",
       "      <td>6729</td>\n",
       "      <td>50</td>\n",
       "      <td>1</td>\n",
       "      <td>1</td>\n",
       "      <td>3</td>\n",
       "      <td>1</td>\n",
       "      <td>1</td>\n",
       "      <td>1</td>\n",
       "      <td>0</td>\n",
       "      <td>0</td>\n",
       "      <td>...</td>\n",
       "      <td>-1</td>\n",
       "      <td>1</td>\n",
       "      <td>4</td>\n",
       "      <td>-3.372049</td>\n",
       "      <td>35.808307</td>\n",
       "      <td>1</td>\n",
       "      <td>0</td>\n",
       "      <td>1</td>\n",
       "      <td>0</td>\n",
       "      <td>3</td>\n",
       "    </tr>\n",
       "    <tr>\n",
       "      <th>4</th>\n",
       "      <td>8671</td>\n",
       "      <td>34</td>\n",
       "      <td>1</td>\n",
       "      <td>1</td>\n",
       "      <td>1</td>\n",
       "      <td>1</td>\n",
       "      <td>2</td>\n",
       "      <td>1</td>\n",
       "      <td>0</td>\n",
       "      <td>1</td>\n",
       "      <td>...</td>\n",
       "      <td>-1</td>\n",
       "      <td>1</td>\n",
       "      <td>4</td>\n",
       "      <td>-7.179645</td>\n",
       "      <td>31.039095</td>\n",
       "      <td>1</td>\n",
       "      <td>1</td>\n",
       "      <td>0</td>\n",
       "      <td>1</td>\n",
       "      <td>3</td>\n",
       "    </tr>\n",
       "  </tbody>\n",
       "</table>\n",
       "<p>5 rows × 37 columns</p>\n",
       "</div>"
      ],
      "text/plain": [
       "     ID  Q1  Q2  Q3  Q4  Q5  Q6  Q7  Q8_1  Q8_2  ...  Q17  Q18  Q19  Latitude  \\\n",
       "0  5086  98   2   3   1   1   2   2     0     0  ...   -1    4    4 -4.460442   \n",
       "1  1258  40   1   1   3   5   1   1     1     0  ...    4    1    4 -6.176438   \n",
       "2   331  18   2   4   6   3   2   1     0     0  ...   -1    1    1 -6.825702   \n",
       "3  6729  50   1   1   3   1   1   1     0     0  ...   -1    1    4 -3.372049   \n",
       "4  8671  34   1   1   1   1   2   1     0     1  ...   -1    1    4 -7.179645   \n",
       "\n",
       "   Longitude  mobile_money  savings  borrowing  insurance  \\\n",
       "0  29.811396             0        0          0          0   \n",
       "1  39.244871             1        1          1          0   \n",
       "2  37.652798             1        0          0          0   \n",
       "3  35.808307             1        0          1          0   \n",
       "4  31.039095             1        1          0          1   \n",
       "\n",
       "   mobile_money_classification  \n",
       "0                            0  \n",
       "1                            3  \n",
       "2                            2  \n",
       "3                            3  \n",
       "4                            3  \n",
       "\n",
       "[5 rows x 37 columns]"
      ]
     },
     "execution_count": 1,
     "metadata": {},
     "output_type": "execute_result"
    }
   ],
   "source": [
    "import plotly.graph_objs as go\n",
    "import plotly.offline as pyo\n",
    "import dash\n",
    "import dash_core_components as dcc\n",
    "import dash_html_components as html\n",
    "import dash_renderer\n",
    "import pandas as pd\n",
    "import os\n",
    "import pandas as pd\n",
    "import seaborn as sns\n",
    "sns.set()\n",
    "import numpy as np\n",
    "import matplotlib.pyplot as plt\n",
    "\n",
    "cash_outlet = pd.read_csv('training.csv')\n",
    "\n",
    "cash_outlet.head()"
   ]
  },
  {
   "cell_type": "code",
   "execution_count": 2,
   "metadata": {},
   "outputs": [],
   "source": [
    "cash_outlet.rename(inplace=True, columns={\n",
    "    'Q1':'age',\n",
    "    'Q2':'gender',\n",
    "    'Q3':'marital status',\n",
    "    'Q4':'Highest level of education',\n",
    "    'Q5':'property ownership',\n",
    "    'Q6':'land ownership',\n",
    "    'Q7':'personal mobile status',\n",
    "    'Q8_1':'salaries or wages',\n",
    "    'Q8_2':'money trading or selling',\n",
    "    'Q8_3':'money providing a service',\n",
    "    'Q8_4':'money casual work',\n",
    "    'Q8_5':'money rental income',\n",
    "    'Q8_6':'money interests',\n",
    "    'Q8_7':'money pension',\n",
    "    'Q8_8':'money social welfare',\n",
    "    'Q8_9':'money financially dependant',\n",
    "    'Q8_10':'money no income',\n",
    "    'Q8_11':'other',\n",
    "    'Q9':'salary and wages',\n",
    "    'Q10':'selling things',\n",
    "    'Q11':'providing a service',\n",
    "    'Q12':'send money to another country',\n",
    "    'Q13':'money last sent',\n",
    "    'Q14':'received money from another country',\n",
    "    'Q15':'last money received',\n",
    "    'Q16':'mobile money purchases',\n",
    "    'Q17':'mobile money bills',\n",
    "    'Q18':'literacy in kwiswhahili',\n",
    "    'Q19':'literacy in english'\n",
    "    \n",
    "})"
   ]
  },
  {
   "cell_type": "code",
   "execution_count": 3,
   "metadata": {},
   "outputs": [
    {
     "data": {
      "text/plain": [
       "gender\n",
       "female    3972\n",
       "male      3122\n",
       "dtype: int64"
      ]
     },
     "execution_count": 3,
     "metadata": {},
     "output_type": "execute_result"
    }
   ],
   "source": [
    "cash_outlet.gender= ['male' if each == 1 else 'female' for each in cash_outlet.gender]\n",
    "cash_outlet.groupby(by='gender').size()"
   ]
  },
  {
   "cell_type": "code",
   "execution_count": 4,
   "metadata": {},
   "outputs": [
    {
     "data": {
      "text/plain": [
       "mobile_money_classification\n",
       "0    1386\n",
       "1    1778\n",
       "2     804\n",
       "3    3126\n",
       "dtype: int64"
      ]
     },
     "execution_count": 4,
     "metadata": {},
     "output_type": "execute_result"
    }
   ],
   "source": [
    "cash_outlet.groupby(by='mobile_money_classification').size()"
   ]
  },
  {
   "cell_type": "code",
   "execution_count": 5,
   "metadata": {},
   "outputs": [],
   "source": [
    "cash_outlet['mobile_money_classification'].replace([0,1,2,3],['Nun','FS_only','MM_only','MM_FS'],inplace=True)"
   ]
  },
  {
   "cell_type": "code",
   "execution_count": 6,
   "metadata": {},
   "outputs": [
    {
     "data": {
      "text/plain": [
       "mobile_money_classification\n",
       "FS_only    1778\n",
       "MM_FS      3126\n",
       "MM_only     804\n",
       "Nun        1386\n",
       "dtype: int64"
      ]
     },
     "execution_count": 6,
     "metadata": {},
     "output_type": "execute_result"
    }
   ],
   "source": [
    "cash_outlet.groupby(by='mobile_money_classification').size()"
   ]
  },
  {
   "cell_type": "code",
   "execution_count": 7,
   "metadata": {},
   "outputs": [],
   "source": [
    "cash_outlet['Group by age'] = cash_outlet.age.apply(lambda x : int(x/25) * 10)"
   ]
  },
  {
   "cell_type": "code",
   "execution_count": 8,
   "metadata": {},
   "outputs": [],
   "source": [
    "cash_outlet['marital status'].replace([1,2,3,4],['Married','Divorced','Widowed','Never married'],inplace=True)"
   ]
  },
  {
   "cell_type": "code",
   "execution_count": 9,
   "metadata": {},
   "outputs": [
    {
     "data": {
      "text/plain": [
       "marital status\n",
       "Divorced          687\n",
       "Married          4548\n",
       "Never married    1181\n",
       "Widowed           678\n",
       "dtype: int64"
      ]
     },
     "execution_count": 9,
     "metadata": {},
     "output_type": "execute_result"
    }
   ],
   "source": [
    "cash_outlet.groupby(by='marital status').size()"
   ]
  },
  {
   "cell_type": "code",
   "execution_count": 10,
   "metadata": {},
   "outputs": [],
   "source": [
    "cash_outlet['land ownership'].replace([1,2],['Yes', 'No'],inplace=True)"
   ]
  },
  {
   "cell_type": "code",
   "execution_count": 11,
   "metadata": {},
   "outputs": [
    {
     "data": {
      "text/plain": [
       "land ownership\n",
       "No     5963\n",
       "Yes    1131\n",
       "dtype: int64"
      ]
     },
     "execution_count": 11,
     "metadata": {},
     "output_type": "execute_result"
    }
   ],
   "source": [
    "cash_outlet.groupby(by='land ownership').size()"
   ]
  },
  {
   "cell_type": "code",
   "execution_count": 12,
   "metadata": {},
   "outputs": [],
   "source": [
    "female=cash_outlet[cash_outlet['gender']==2]\n",
    "male=cash_outlet[cash_outlet['gender']==1]\n",
    "\n",
    "m_class=cash_outlet['mobile_money_classification']\n",
    "\n",
    "Nun=cash_outlet[cash_outlet['mobile_money_classification']==0]\n",
    "FS_only=cash_outlet[cash_outlet['mobile_money_classification']==1]\n",
    "MM_only=cash_outlet[cash_outlet['mobile_money_classification']==2]\n",
    "MM_FS=cash_outlet[cash_outlet['mobile_money_classification']==3]\n",
    "\n",
    "Owner=cash_outlet[cash_outlet['land ownership'] == 1]\n",
    "Non_owner=cash_outlet[cash_outlet['land ownership'] == 2]\n",
    "\n",
    "married=cash_outlet[cash_outlet['mobile_money_classification']==1]\n",
    "divorced=cash_outlet[cash_outlet['mobile_money_classification']==2]\n",
    "widowed=cash_outlet[cash_outlet['mobile_money_classification']==3]\n",
    "never=cash_outlet[cash_outlet['mobile_money_classification']==4]"
   ]
  },
  {
   "cell_type": "code",
   "execution_count": 13,
   "metadata": {},
   "outputs": [],
   "source": [
    "app = dash.Dash()"
   ]
  },
  {
   "cell_type": "markdown",
   "metadata": {},
   "source": [
    "# Feedback"
   ]
  },
  {
   "cell_type": "markdown",
   "metadata": {},
   "source": [
    "I think the main problem are the dataframe to are referring too. For example the above defined\n",
    "dataframes (female, male) are empty/blank so calling them won't produce anything."
   ]
  },
  {
   "cell_type": "code",
   "execution_count": 14,
   "metadata": {},
   "outputs": [
    {
     "data": {
      "text/html": [
       "<div>\n",
       "<style scoped>\n",
       "    .dataframe tbody tr th:only-of-type {\n",
       "        vertical-align: middle;\n",
       "    }\n",
       "\n",
       "    .dataframe tbody tr th {\n",
       "        vertical-align: top;\n",
       "    }\n",
       "\n",
       "    .dataframe thead th {\n",
       "        text-align: right;\n",
       "    }\n",
       "</style>\n",
       "<table border=\"1\" class=\"dataframe\">\n",
       "  <thead>\n",
       "    <tr style=\"text-align: right;\">\n",
       "      <th></th>\n",
       "      <th>ID</th>\n",
       "      <th>age</th>\n",
       "      <th>gender</th>\n",
       "      <th>marital status</th>\n",
       "      <th>Highest level of education</th>\n",
       "      <th>property ownership</th>\n",
       "      <th>land ownership</th>\n",
       "      <th>personal mobile status</th>\n",
       "      <th>salaries or wages</th>\n",
       "      <th>money trading or selling</th>\n",
       "      <th>...</th>\n",
       "      <th>literacy in kwiswhahili</th>\n",
       "      <th>literacy in english</th>\n",
       "      <th>Latitude</th>\n",
       "      <th>Longitude</th>\n",
       "      <th>mobile_money</th>\n",
       "      <th>savings</th>\n",
       "      <th>borrowing</th>\n",
       "      <th>insurance</th>\n",
       "      <th>mobile_money_classification</th>\n",
       "      <th>Group by age</th>\n",
       "    </tr>\n",
       "  </thead>\n",
       "  <tbody>\n",
       "  </tbody>\n",
       "</table>\n",
       "<p>0 rows × 38 columns</p>\n",
       "</div>"
      ],
      "text/plain": [
       "Empty DataFrame\n",
       "Columns: [ID, age, gender, marital status, Highest level of education, property ownership, land ownership, personal mobile status, salaries or wages, money trading or selling, money providing a service, money casual work, money rental income, money interests, money pension, money social welfare, money financially dependant, money no income, other, salary and wages, selling things, providing a service, send money to another country, money last sent, received money from another country, last money received, mobile money purchases, mobile money bills, literacy in kwiswhahili, literacy in english, Latitude, Longitude, mobile_money, savings, borrowing, insurance, mobile_money_classification, Group by age]\n",
       "Index: []\n",
       "\n",
       "[0 rows x 38 columns]"
      ]
     },
     "execution_count": 14,
     "metadata": {},
     "output_type": "execute_result"
    }
   ],
   "source": [
    "male"
   ]
  },
  {
   "cell_type": "code",
   "execution_count": 15,
   "metadata": {},
   "outputs": [
    {
     "data": {
      "text/html": [
       "<div>\n",
       "<style scoped>\n",
       "    .dataframe tbody tr th:only-of-type {\n",
       "        vertical-align: middle;\n",
       "    }\n",
       "\n",
       "    .dataframe tbody tr th {\n",
       "        vertical-align: top;\n",
       "    }\n",
       "\n",
       "    .dataframe thead th {\n",
       "        text-align: right;\n",
       "    }\n",
       "</style>\n",
       "<table border=\"1\" class=\"dataframe\">\n",
       "  <thead>\n",
       "    <tr style=\"text-align: right;\">\n",
       "      <th></th>\n",
       "      <th>ID</th>\n",
       "      <th>age</th>\n",
       "      <th>gender</th>\n",
       "      <th>marital status</th>\n",
       "      <th>Highest level of education</th>\n",
       "      <th>property ownership</th>\n",
       "      <th>land ownership</th>\n",
       "      <th>personal mobile status</th>\n",
       "      <th>salaries or wages</th>\n",
       "      <th>money trading or selling</th>\n",
       "      <th>...</th>\n",
       "      <th>literacy in kwiswhahili</th>\n",
       "      <th>literacy in english</th>\n",
       "      <th>Latitude</th>\n",
       "      <th>Longitude</th>\n",
       "      <th>mobile_money</th>\n",
       "      <th>savings</th>\n",
       "      <th>borrowing</th>\n",
       "      <th>insurance</th>\n",
       "      <th>mobile_money_classification</th>\n",
       "      <th>Group by age</th>\n",
       "    </tr>\n",
       "  </thead>\n",
       "  <tbody>\n",
       "  </tbody>\n",
       "</table>\n",
       "<p>0 rows × 38 columns</p>\n",
       "</div>"
      ],
      "text/plain": [
       "Empty DataFrame\n",
       "Columns: [ID, age, gender, marital status, Highest level of education, property ownership, land ownership, personal mobile status, salaries or wages, money trading or selling, money providing a service, money casual work, money rental income, money interests, money pension, money social welfare, money financially dependant, money no income, other, salary and wages, selling things, providing a service, send money to another country, money last sent, received money from another country, last money received, mobile money purchases, mobile money bills, literacy in kwiswhahili, literacy in english, Latitude, Longitude, mobile_money, savings, borrowing, insurance, mobile_money_classification, Group by age]\n",
       "Index: []\n",
       "\n",
       "[0 rows x 38 columns]"
      ]
     },
     "execution_count": 15,
     "metadata": {},
     "output_type": "execute_result"
    }
   ],
   "source": [
    "female"
   ]
  },
  {
   "cell_type": "markdown",
   "metadata": {},
   "source": [
    "Also another thing I notice is you are providing the whole dataframe instead of specified column or values.\n",
    "\n",
    "Will try to plot the first figure you have and hopefully that will work and you'll use it as an template or\n",
    "chart to refer too to plot other charts"
   ]
  },
  {
   "cell_type": "markdown",
   "metadata": {},
   "source": [
    "# Example"
   ]
  },
  {
   "cell_type": "code",
   "execution_count": 16,
   "metadata": {},
   "outputs": [
    {
     "data": {
      "text/html": [
       "<div>\n",
       "<style scoped>\n",
       "    .dataframe tbody tr th:only-of-type {\n",
       "        vertical-align: middle;\n",
       "    }\n",
       "\n",
       "    .dataframe tbody tr th {\n",
       "        vertical-align: top;\n",
       "    }\n",
       "\n",
       "    .dataframe thead th {\n",
       "        text-align: right;\n",
       "    }\n",
       "</style>\n",
       "<table border=\"1\" class=\"dataframe\">\n",
       "  <thead>\n",
       "    <tr style=\"text-align: right;\">\n",
       "      <th></th>\n",
       "      <th>index</th>\n",
       "      <th>mobile_money_classification</th>\n",
       "    </tr>\n",
       "  </thead>\n",
       "  <tbody>\n",
       "    <tr>\n",
       "      <th>0</th>\n",
       "      <td>MM_FS</td>\n",
       "      <td>3126</td>\n",
       "    </tr>\n",
       "    <tr>\n",
       "      <th>1</th>\n",
       "      <td>FS_only</td>\n",
       "      <td>1778</td>\n",
       "    </tr>\n",
       "    <tr>\n",
       "      <th>2</th>\n",
       "      <td>Nun</td>\n",
       "      <td>1386</td>\n",
       "    </tr>\n",
       "    <tr>\n",
       "      <th>3</th>\n",
       "      <td>MM_only</td>\n",
       "      <td>804</td>\n",
       "    </tr>\n",
       "  </tbody>\n",
       "</table>\n",
       "</div>"
      ],
      "text/plain": [
       "     index  mobile_money_classification\n",
       "0    MM_FS                         3126\n",
       "1  FS_only                         1778\n",
       "2      Nun                         1386\n",
       "3  MM_only                          804"
      ]
     },
     "execution_count": 16,
     "metadata": {},
     "output_type": "execute_result"
    }
   ],
   "source": [
    "# FigureOne dataset (Data to be used to produce a the first chart)\n",
    "figA  = pd.DataFrame(m_class.value_counts()).reset_index()\n",
    "\n",
    "figA.head()"
   ]
  },
  {
   "cell_type": "code",
   "execution_count": 17,
   "metadata": {},
   "outputs": [],
   "source": [
    "app.title = 'dashboard'\n",
    "\n",
    "\n",
    "app.layout = html.Div(\n",
    "       html.Div([\n",
    "            html.H1(children = 'dashoard for mobile money'),\n",
    "            html.Div(children ='''Dash: Web dashboards with python,'''),\n",
    "        \n",
    "            # Hopefull the below will serve as a guide for the rest of your charts\n",
    "            dcc.Graph(id='mobile money',\n",
    "                figure={\n",
    "                    'data':[\n",
    "                        {'x':figA[\"mobile_money_classification\"], 'y':figA[\"index\"], 'type': 'bar','name': 'Male'}\n",
    "                           ],\n",
    "                'layout':{'title':'Relationship between mobile money class and gender'}\n",
    "                }\n",
    "            )\n",
    "        ]\n",
    "       )\n",
    ")\n"
   ]
  },
  {
   "cell_type": "code",
   "execution_count": 18,
   "metadata": {},
   "outputs": [
    {
     "name": "stdout",
     "output_type": "stream",
     "text": [
      " * Serving Flask app \"__main__\" (lazy loading)\n",
      " * Environment: production\n",
      "   WARNING: This is a development server. Do not use it in a production deployment.\n",
      "   Use a production WSGI server instead.\n",
      " * Debug mode: off\n"
     ]
    },
    {
     "name": "stderr",
     "output_type": "stream",
     "text": [
      " * Running on http://127.0.0.1:8050/ (Press CTRL+C to quit)\n",
      "127.0.0.1 - - [23/Mar/2020 13:15:03] \"\u001b[37mGET / HTTP/1.1\u001b[0m\" 200 -\n",
      "127.0.0.1 - - [23/Mar/2020 13:15:03] \"\u001b[37mGET /_dash-component-suites/dash_renderer/react@16.v1_2_3m1580396678.8.6.min.js HTTP/1.1\u001b[0m\" 200 -\n",
      "127.0.0.1 - - [23/Mar/2020 13:15:03] \"\u001b[37mGET /_dash-component-suites/dash_renderer/polyfill@7.v1_2_3m1580396678.7.0.min.js HTTP/1.1\u001b[0m\" 200 -\n",
      "127.0.0.1 - - [23/Mar/2020 13:15:03] \"\u001b[37mGET /_dash-component-suites/dash_renderer/prop-types@15.v1_2_3m1580396678.7.2.min.js HTTP/1.1\u001b[0m\" 200 -\n",
      "127.0.0.1 - - [23/Mar/2020 13:15:03] \"\u001b[37mGET /_dash-component-suites/dash_renderer/react-dom@16.v1_2_3m1580396678.8.6.min.js HTTP/1.1\u001b[0m\" 200 -\n",
      "127.0.0.1 - - [23/Mar/2020 13:15:03] \"\u001b[37mGET /_dash-component-suites/dash_core_components/dash_core_components-shared.v1_7_0m1580396406.js HTTP/1.1\u001b[0m\" 200 -\n",
      "127.0.0.1 - - [23/Mar/2020 13:15:03] \"\u001b[37mGET /_dash-component-suites/dash_core_components/dash_core_components.v1_7_0m1580396406.min.js HTTP/1.1\u001b[0m\" 200 -\n",
      "127.0.0.1 - - [23/Mar/2020 13:15:03] \"\u001b[37mGET /_dash-component-suites/dash_html_components/dash_html_components.v1_0_2m1580396678.min.js HTTP/1.1\u001b[0m\" 200 -\n",
      "127.0.0.1 - - [23/Mar/2020 13:15:03] \"\u001b[37mGET /_dash-component-suites/dash_renderer/dash_renderer.v1_2_3m1580396678.min.js HTTP/1.1\u001b[0m\" 200 -\n",
      "127.0.0.1 - - [23/Mar/2020 13:15:03] \"\u001b[37mGET /_dash-dependencies HTTP/1.1\u001b[0m\" 200 -\n",
      "127.0.0.1 - - [23/Mar/2020 13:15:03] \"\u001b[37mGET /_dash-layout HTTP/1.1\u001b[0m\" 200 -\n",
      "127.0.0.1 - - [23/Mar/2020 13:15:03] \"\u001b[37mGET /_favicon.ico?v=1.8.0 HTTP/1.1\u001b[0m\" 200 -\n",
      "127.0.0.1 - - [23/Mar/2020 13:15:03] \"\u001b[37mGET /_dash-component-suites/dash_core_components/async~graph.v1_7_0m1579024535.js HTTP/1.1\u001b[0m\" 200 -\n",
      "127.0.0.1 - - [23/Mar/2020 13:15:03] \"\u001b[37mGET /_dash-component-suites/dash_core_components/async~plotlyjs.v1_7_0m1579024535.js HTTP/1.1\u001b[0m\" 200 -\n"
     ]
    }
   ],
   "source": [
    "if __name__ == '__main__':\n",
    "    app.run_server()"
   ]
  },
  {
   "cell_type": "markdown",
   "metadata": {},
   "source": [
    "Output"
   ]
  },
  {
   "cell_type": "markdown",
   "metadata": {},
   "source": [
    "![](output.png)"
   ]
  }
 ],
 "metadata": {
  "kernelspec": {
   "display_name": "Python 3",
   "language": "python",
   "name": "python3"
  },
  "language_info": {
   "codemirror_mode": {
    "name": "ipython",
    "version": 3
   },
   "file_extension": ".py",
   "mimetype": "text/x-python",
   "name": "python",
   "nbconvert_exporter": "python",
   "pygments_lexer": "ipython3",
   "version": "3.7.3"
  }
 },
 "nbformat": 4,
 "nbformat_minor": 2
}
